{
 "cells": [
  {
   "cell_type": "code",
   "execution_count": 19,
   "metadata": {},
   "outputs": [],
   "source": [
    "import numpy as np\n",
    "from sympy import prime"
   ]
  },
  {
   "cell_type": "markdown",
   "metadata": {},
   "source": [
    "### Exercise 1: Comparing the Arithmetic, Harmonic, and Geometric Means"
   ]
  },
  {
   "cell_type": "markdown",
   "metadata": {},
   "source": [
    "What we usually understand as the average of a sequence of numbers $x_1,x_2,\\ldots,x_n$ is also called arithmetic mean, and defined as: $$\\frac1n\\sum_{k=1}^nx_k$$. There exist, however, other types of means: the harmonic mean $$\\frac n{\\sum\\limits_{k=1}^n\\dfrac1{x_k}}$$ and the geometric mean $$\\sqrt[n]{\\prod_{k=1}^nx_k}$$.\n",
    "\n",
    "#### Questions:\n",
    "- Implement three functions that define the arithmetic, harmonic and geometric mean respectively. (Hint: Remember that you can access individual entries of a list `lst` by their index `i` by writing `lst[i]`.))\n",
    "\n",
    "- With numerical experimentation (i.e. by plugging in a few sequences of numbers), compare the sizes of these three means. Which one seems biggest, which one smallest?"
   ]
  },
  {
   "cell_type": "code",
   "execution_count": 2,
   "metadata": {},
   "outputs": [],
   "source": [
    "def arithmetic_mean(numbers):\n",
    "    total = sum(numbers)\n",
    "    n = len(numbers)\n",
    "    return total/n\n",
    "\n",
    "def harmonic_mean(numbers):\n",
    "    reciprocal_sum = sum([1/number for number in numbers])\n",
    "    n = len(numbers)\n",
    "    return n/reciprocal_sum\n",
    "\n",
    "def geometric_mean(numbers):\n",
    "    product = 1\n",
    "    for number in numbers:\n",
    "        product *= number\n",
    "    n = len(numbers)\n",
    "    return pow(product, 1/n)"
   ]
  },
  {
   "cell_type": "code",
   "execution_count": 8,
   "metadata": {},
   "outputs": [
    {
     "name": "stdout",
     "output_type": "stream",
     "text": [
      "Arithmetic Mean : 4.5\n",
      "Harmonic Mean : 2.2222222222222223\n",
      "Geometric Mean : 3.1622776601683795\n"
     ]
    }
   ],
   "source": [
    "numbers = [1,5,2,10]\n",
    "print(\"Arithmetic Mean : \" + str(arithmetic_mean(numbers)))\n",
    "print(\"Harmonic Mean : \" + str(harmonic_mean(numbers)))\n",
    "print(\"Geometric Mean : \" + str(geometric_mean(numbers)))"
   ]
  },
  {
   "cell_type": "markdown",
   "metadata": {},
   "source": [
    "### Conclusion : Arithmetic mean is the biggest followed by the geometric mean and lastly the harmonic mean"
   ]
  },
  {
   "cell_type": "markdown",
   "metadata": {},
   "source": []
  },
  {
   "cell_type": "markdown",
   "metadata": {},
   "source": [
    "### Exercise 2: Series Summation made Easier with Functions"
   ]
  },
  {
   "cell_type": "markdown",
   "metadata": {},
   "source": [
    "Now that we have introduced functions, we can also simplify the code from previous weeks considerably. Consider for example your work on computing the Riemann Zeta function $$\\zeta(s)=\\sum_{n=1}^\\infty\\frac1{n^s}\\;.$$ \n",
    "You already simplified your code considerably by using variable assignment, list comprehension, and the `sum()` function, writing code like the following to compute the $100$-th partial sum of the series for $\\zeta(2)$."
   ]
  },
  {
   "cell_type": "markdown",
   "metadata": {},
   "source": [
    "#### Questions:\n",
    "- Write a function called `zeta_sum` that gets two quantities $s$ (the value at which we want to evaluate the partial sum) and $N$ (the number of terms in the partial sum), and returns the value of the partial sum of the Riemann zeta function.\n",
    "- Write a similar function for the partial product of the Riemann zeta function, using the function name `zeta_prod`.\n",
    "- Compare `zeta_prod` and `zeta_sum`. \n",
    "- Compute the $100$th, $200$th and $400$th partial products for $s=2.5$, and compare against the exact values of $\\zeta(s)$."
   ]
  },
  {
   "cell_type": "code",
   "execution_count": 30,
   "metadata": {},
   "outputs": [],
   "source": [
    "def zeta_sum(s, N):\n",
    "    if N < 1:\n",
    "        return None\n",
    "    sum = 0\n",
    "    for i in range(1, N+1):\n",
    "        sum = sum + 1/(i**s)\n",
    "    return sum\n",
    "\n",
    "def zeta_prod(s, N):\n",
    "    if N < 1:\n",
    "        return None\n",
    "    product = 1\n",
    "    for i in range(1, N+1):\n",
    "        product = product * 1/(1-((prime(i))**(-s)))\n",
    "    return product\n"
   ]
  },
  {
   "cell_type": "code",
   "execution_count": 32,
   "metadata": {},
   "outputs": [
    {
     "name": "stdout",
     "output_type": "stream",
     "text": [
      "Zeta sum using s = 2.5 and n = 100 is : 1.3408255697514637\n",
      "Zeta prod using s = 2.5 and n = 100 is : 1.3414770673969854\n"
     ]
    }
   ],
   "source": [
    "print(\"Zeta sum using s = {} and n = {} is : {}\".format(str(2.5), str(100), str(zeta_sum(2.5, 100))))\n",
    "print(\"Zeta prod using s = {} and n = {} is : {}\".format(str(2.5), str(100), str(zeta_prod(2.5, 100))))"
   ]
  },
  {
   "cell_type": "markdown",
   "metadata": {},
   "source": [
    "#### Conclusion : zeta_prod is larger than zeta_sum"
   ]
  },
  {
   "cell_type": "code",
   "execution_count": 33,
   "metadata": {},
   "outputs": [
    {
     "name": "stdout",
     "output_type": "stream",
     "text": [
      "Zeta sum using s = 2.5 and n = 100 is : 1.3408255697514637\n",
      "Zeta prod using s = 2.5 and n = 100 is : 1.3414770673969854\n",
      "Actual zeta value : 1.3414872572509173\n",
      "Zeta sum using s = 2.5 and n = 200 is : 1.3412524370325856\n",
      "Zeta prod using s = 2.5 and n = 200 is : 1.3414845958264436\n",
      "Actual zeta value : 1.3414872572509173\n",
      "Zeta sum using s = 2.5 and n = 400 is : 1.3414040800048226\n",
      "Zeta prod using s = 2.5 and n = 400 is : 1.341486541451443\n",
      "Actual zeta value : 1.3414872572509173\n"
     ]
    }
   ],
   "source": [
    "import scipy.special\n",
    "zeta = scipy.special.zeta\n",
    "\n",
    "actual_value = zeta(2.5)\n",
    "\n",
    "print(\"Zeta sum using s = {} and n = {} is : {}\".format(str(2.5), str(100), str(zeta_sum(2.5, 100))))\n",
    "print(\"Zeta prod using s = {} and n = {} is : {}\".format(str(2.5), str(100), str(zeta_prod(2.5, 100))))\n",
    "print(\"Actual zeta value : \" + str(actual_value))\n",
    "\n",
    "\n",
    "print(\"Zeta sum using s = {} and n = {} is : {}\".format(str(2.5), str(200), str(zeta_sum(2.5, 200))))\n",
    "print(\"Zeta prod using s = {} and n = {} is : {}\".format(str(2.5), str(200), str(zeta_prod(2.5, 200))))\n",
    "print(\"Actual zeta value : \" + str(actual_value))\n",
    "\n",
    "\n",
    "print(\"Zeta sum using s = {} and n = {} is : {}\".format(str(2.5), str(400), str(zeta_sum(2.5, 400))))\n",
    "print(\"Zeta prod using s = {} and n = {} is : {}\".format(str(2.5), str(400), str(zeta_prod(2.5, 400))))\n",
    "print(\"Actual zeta value : \" + str(actual_value))"
   ]
  },
  {
   "cell_type": "markdown",
   "metadata": {},
   "source": [
    "#### Conclusion : We see that values computed by zeta_prod are closer to the actual value compared to zeta_sum and moreover, increasing the value of N for both zeta_sum and zeta_prod resulted in higher accuracy"
   ]
  },
  {
   "cell_type": "markdown",
   "metadata": {},
   "source": [
    "### Exercise 3: Zipping and Unzipping."
   ]
  },
  {
   "cell_type": "markdown",
   "metadata": {},
   "source": [
    "You have encountered the built-in function `zip()` which takes two lists of the same length and returns a list of paired tuples."
   ]
  },
  {
   "cell_type": "code",
   "execution_count": 10,
   "metadata": {},
   "outputs": [
    {
     "data": {
      "text/plain": [
       "[(1, 'a'), (2, 'b'), (3, 'c'), (4, 'd')]"
      ]
     },
     "execution_count": 10,
     "metadata": {},
     "output_type": "execute_result"
    }
   ],
   "source": [
    "list(zip([1,2,3,4],['a','b','c','d']))"
   ]
  },
  {
   "cell_type": "markdown",
   "metadata": {},
   "source": [
    "#### Exercise 3.a: Write your own version of this function (without using the built-in one).  Test your function on `[1,2,3,4]` and `['a','b','c','d']`. "
   ]
  },
  {
   "cell_type": "code",
   "execution_count": 43,
   "metadata": {
    "scrolled": true
   },
   "outputs": [
    {
     "name": "stdout",
     "output_type": "stream",
     "text": [
      "[(1, 'a'), (2, 'b'), (3, 'c'), (4, 'd')]\n"
     ]
    }
   ],
   "source": [
    "def manual_zip(list1, list2):\n",
    "    if len(list1) != len(list2):\n",
    "        return None\n",
    "    zipped_list = []\n",
    "    for i in range(0, len(list1)):\n",
    "        zipped_list.append((list1[i], list2[i]))\n",
    "    return zipped_list\n",
    "\n",
    "print(manual_zip([1,2,3,4], ['a','b','c','d']))\n",
    "        "
   ]
  },
  {
   "cell_type": "markdown",
   "metadata": {},
   "source": [
    "If the sequences are of different length, you will likely get a  `list index out of range` error."
   ]
  },
  {
   "cell_type": "markdown",
   "metadata": {},
   "source": [
    "#### Exercise 3.b: Test your function also on `[1,2,3]` and `['a','b','c','d']`, and also on `[1,2,3,4]` and `['a','b','c']`."
   ]
  },
  {
   "cell_type": "code",
   "execution_count": 44,
   "metadata": {},
   "outputs": [
    {
     "name": "stdout",
     "output_type": "stream",
     "text": [
      "None\n",
      "None\n"
     ]
    }
   ],
   "source": [
    "print(manual_zip([1,2,3], ['a','b','c','d']))\n",
    "print(manual_zip([1,2,3,4], ['a','b','c']))"
   ]
  },
  {
   "cell_type": "markdown",
   "metadata": {},
   "source": [
    "#### Exercise 3.c: Change your function such that it does not produce an error, by restricting the range over which you zip, and test all three cases."
   ]
  },
  {
   "cell_type": "code",
   "execution_count": 46,
   "metadata": {},
   "outputs": [
    {
     "name": "stdout",
     "output_type": "stream",
     "text": [
      "[(1, 'a'), (2, 'b'), (3, 'c'), (4, 'd')]\n",
      "[(1, 'a'), (2, 'b'), (3, 'c')]\n",
      "[(1, 'a'), (2, 'b'), (3, 'c')]\n"
     ]
    }
   ],
   "source": [
    "def manual_zip_with_restricted_range(list1, list2):\n",
    "    restricted_range = min(len(list1), len(list2))\n",
    "    zipped_list = []\n",
    "    for i in range(0, restricted_range):\n",
    "        zipped_list.append((list1[i], list2[i]))\n",
    "    return zipped_list\n",
    "\n",
    "print(manual_zip_with_restricted_range([1,2,3,4], ['a','b','c','d']))\n",
    "print(manual_zip_with_restricted_range([1,2,3], ['a','b','c','d']))\n",
    "print(manual_zip_with_restricted_range([1,2,3,4], ['a','b','c']))"
   ]
  },
  {
   "cell_type": "markdown",
   "metadata": {},
   "source": [
    "### Exercise 4: Approximating the derivative"
   ]
  },
  {
   "cell_type": "markdown",
   "metadata": {},
   "source": [
    "The derivative of a function $f$ at a point $x$ is defined as\n",
    "$$f'(x)=\\lim_{h\\to0}\\frac{f(x+h)-f(x)}h\\;.$$\n",
    "We want to numerically study the quotient on the right-hand side as $h$ tends to zero."
   ]
  },
  {
   "cell_type": "markdown",
   "metadata": {},
   "source": [
    "#### Questions:\n",
    "- Implement the right hand side of the equation above as a function `g(f,x,h)`, where $f$ is another function (the one which you want to compute the numerical derivative from).\n",
    "- Using lambda functions (or otherwise), evaluate the numerical derivative of $f(x)=x^2$ at $x=1$, by using a numerical step $h=0.1$. Compare this result with the actual value $f'(1)=2$.\n",
    "- Explore how the numerical derivative converges when $h$ shrinks, by taking $h=10^{-n}$ with $n=1,2,\\ldots,18$. Explain what you observe. "
   ]
  },
  {
   "cell_type": "code",
   "execution_count": 50,
   "metadata": {},
   "outputs": [
    {
     "name": "stdout",
     "output_type": "stream",
     "text": [
      "Computed value of f'(x) using x = 1, h = 0.1 is : 2.100000000000002\n",
      "Computed value of f'(x) using x = 1, h = 0.01 is : 2.0100000000000007\n",
      "Computed value of f'(x) using x = 1, h = 0.001 is : 2.0009999999996975\n",
      "Computed value of f'(x) using x = 1, h = 0.0001 is : 2.000099999999172\n",
      "Computed value of f'(x) using x = 1, h = 1e-05 is : 2.00001000001393\n",
      "Computed value of f'(x) using x = 1, h = 1e-06 is : 2.0000009999243673\n",
      "Computed value of f'(x) using x = 1, h = 1e-07 is : 2.0000001010878066\n",
      "Computed value of f'(x) using x = 1, h = 1e-08 is : 1.999999987845058\n",
      "Computed value of f'(x) using x = 1, h = 1e-09 is : 2.000000165480742\n",
      "Computed value of f'(x) using x = 1, h = 1e-10 is : 2.000000165480742\n",
      "Computed value of f'(x) using x = 1, h = 1e-11 is : 2.000000165480742\n",
      "Computed value of f'(x) using x = 1, h = 1e-12 is : 2.000177801164682\n",
      "Computed value of f'(x) using x = 1, h = 1e-13 is : 1.9984014443252818\n",
      "Computed value of f'(x) using x = 1, h = 1e-14 is : 1.9984014443252818\n",
      "Computed value of f'(x) using x = 1, h = 1e-15 is : 2.220446049250313\n",
      "Computed value of f'(x) using x = 1, h = 1e-16 is : 0.0\n",
      "Computed value of f'(x) using x = 1, h = 1e-17 is : 0.0\n",
      "Computed value of f'(x) using x = 1, h = 1e-18 is : 0.0\n",
      "\n",
      "Actual value of f'(x) using x = 1 is : 2\n"
     ]
    }
   ],
   "source": [
    "def derivative(f, x, h):\n",
    "    return (f(x+h) - f(x))/h\n",
    "\n",
    "def f(x):\n",
    "    return x*x\n",
    "\n",
    "for n in range(1, 19):\n",
    "    h = pow(10, -n)\n",
    "    print(\"Computed value of f'(x) using x = {}, h = {} is : {}\".format(str(1), str(h), str(derivative(f, 1, h))))\n",
    "    \n",
    "print(\"\\nActual value of f'(x) using x = {} is : {}\".format(str(1), str(2)))"
   ]
  },
  {
   "cell_type": "markdown",
   "metadata": {},
   "source": [
    "#### Conclusion : We see that for values of  \"n\" upto n=7, the trend is consistent in the sense that the manually computed value of the derivative becomes closer and closer to the actual value of the derivative, however, for n>7, the trend breaks down and the manually computed value oscillates around 2 and for values n>15, the manually computed value is zero altogether. This is likely due to internal limitations of the python implementation of floating point arithmetic causing overflows/underflows somewhere in the bytecode."
   ]
  },
  {
   "cell_type": "markdown",
   "metadata": {},
   "source": [
    "### Exercise 5: Roots of a cubic polynomial"
   ]
  },
  {
   "cell_type": "markdown",
   "metadata": {},
   "source": [
    "\n",
    "\n",
    "The discriminant of a cubic polynomial $p(x)=ax^3+bx^2+cx+d$ is\n",
    "$$\\Delta=b^2c^2-4ac^3-4b^3d-27a^2d^2+18abcd\\;.$$\n",
    "The discriminant gives us information about the roots of the polynomial $p(x)$:\n",
    "\n",
    "- if $\\Delta>0$, then $p(x)$ has 3 distinct real roots,\n",
    "- if $\\Delta<0$, then $p(x)$ has 2 distinct complex roots and 1 real root,\n",
    "- if $\\Delta=0$, then $p(x)$ has at least 2 (real or complex) roots which are the same.\n",
    "\n",
    "Represent a cubic polynomial $p(x)=ax^3+bx^2+cx+d$ by the coefficients `a,b,c,d` of numbers. For example, the polynomial $p(x)=x^3-x+1$ is represented as `1,0,-1,1`.\n",
    "\n",
    "#### Questions:\n",
    "- Write a function called `cubic_roots()` that returns information on the roots of a given polynomial. Test this function on the polynomials $x^3$, $x(1-x)^2$, $x^3-x+1$ and $x^3-x$. \n",
    "- Write a function called `has_three_real_roots()` which takes as input the four coefficients of a cubic polynomial in decreasing order, and returns `True` if $p(x)$ has 3 real distinct roots and `False` otherwise. Test this function on the same polynomials as before.\n",
    "\n",
    "\n",
    "\n",
    "\n"
   ]
  },
  {
   "cell_type": "code",
   "execution_count": 58,
   "metadata": {},
   "outputs": [],
   "source": [
    "def cubic_roots(a, b, c, d):\n",
    "    discriminant = (b**2)*(c**2) - 4*a*(c**3) - 4*(b**3)*d - 27*(a**2)*(d**2) + 18*a*b*c*d\n",
    "    if discriminant > 0:\n",
    "        return (\"\\np(x) has 3 distinct real roots.\")\n",
    "    if discriminant < 0:\n",
    "        return (\"\\np(x) has 2 distinct complex roots and 1 real root.\")\n",
    "    else:\n",
    "        return (\"\\np(x) has at least 2 (real or complex) roots which are the same.\")"
   ]
  },
  {
   "cell_type": "code",
   "execution_count": 63,
   "metadata": {},
   "outputs": [
    {
     "name": "stdout",
     "output_type": "stream",
     "text": [
      "\n",
      "p(x) has at least 2 (real or complex) roots which are the same.\n",
      "\n",
      "p(x) has at least 2 (real or complex) roots which are the same.\n",
      "\n",
      "p(x) has 2 distinct complex roots and 1 real root.\n",
      "\n",
      "p(x) has 3 distinct real roots.\n"
     ]
    }
   ],
   "source": [
    "print(cubic_roots(1, 0, 0, 0))\n",
    "print(cubic_roots(1, -2, 1, 0))\n",
    "print(cubic_roots(1, 0, -1, 1))\n",
    "print(cubic_roots(1, 0, -1, 0))"
   ]
  },
  {
   "cell_type": "markdown",
   "metadata": {},
   "source": [
    "\n"
   ]
  },
  {
   "cell_type": "code",
   "execution_count": 64,
   "metadata": {},
   "outputs": [
    {
     "name": "stdout",
     "output_type": "stream",
     "text": [
      "False\n",
      "False\n",
      "False\n",
      "True\n"
     ]
    }
   ],
   "source": [
    "def has_three_real_roots(a, b, c, d):\n",
    "    discriminant = (b**2)*(c**2) - 4*a*(c**3) - 4*(b**3)*d - 27*(a**2)*(d**2) + 18*a*b*c*d\n",
    "    if discriminant > 0:\n",
    "        return True\n",
    "    else:\n",
    "        return False\n",
    "\n",
    "print(has_three_real_roots(1, 0, 0, 0))\n",
    "print(has_three_real_roots(1, -2, 1, 0))\n",
    "print(has_three_real_roots(1, 0, -1, 1))\n",
    "print(has_three_real_roots(1, 0, -1, 0))"
   ]
  },
  {
   "cell_type": "code",
   "execution_count": null,
   "metadata": {},
   "outputs": [],
   "source": []
  },
  {
   "cell_type": "markdown",
   "metadata": {},
   "source": [
    "Once you are done, save the jupyter notebook and submit it to QMPLUS under Lab Report Week 4."
   ]
  },
  {
   "cell_type": "code",
   "execution_count": 1,
   "metadata": {},
   "outputs": [
    {
     "name": "stdout",
     "output_type": "stream",
     "text": [
      "[20, 46, 90, 158, 256, 390, 566, 790, 1068]\n"
     ]
    }
   ],
   "source": [
    "print([(k**3 + 7*k - 2) for k in range(2, 11)])"
   ]
  },
  {
   "cell_type": "code",
   "execution_count": null,
   "metadata": {},
   "outputs": [],
   "source": []
  }
 ],
 "metadata": {
  "kernelspec": {
   "display_name": "Python 3",
   "language": "python",
   "name": "python3"
  },
  "language_info": {
   "codemirror_mode": {
    "name": "ipython",
    "version": 3
   },
   "file_extension": ".py",
   "mimetype": "text/x-python",
   "name": "python",
   "nbconvert_exporter": "python",
   "pygments_lexer": "ipython3",
   "version": "3.9.5"
  }
 },
 "nbformat": 4,
 "nbformat_minor": 2
}
