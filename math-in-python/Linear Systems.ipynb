{
 "cells": [
  {
   "cell_type": "markdown",
   "metadata": {},
   "source": [
    "## Exercise 1: Playing with Boolean variables "
   ]
  },
  {
   "cell_type": "markdown",
   "metadata": {},
   "source": [
    "Implement the following functions:\n",
    "- a function called `my_and()` that implements the logical `and`. This function should take two Boolean variables `x1` and `x2` as inputs and return the result of the logical statement `x1 and x2`. We recall the truth table of the `and` operator: `x1 and x2` is True when at the same time `x1` and `x2` are themselves true.\n",
    "- a function called `my_or()` that implements the logical `or` operator. This function should take two Boolean variables `x1` and `x2` as inputs and return the result of the logical statement `x1 or x2`. We recall the truth table of the `or` operator: `x1 or x2` is True when either `x1`, `x2`, or both, are themselves true.\n",
    "- The Boolean expression `not A` is the logical negation of `A`, meaning that if `A` is True, then `not A` is False, and viceversa. You will recall that the logical statement \"A implies B\" is logically equivalent to \"B or not A\" (their truth tables are equivalent). With this, build a Python function called `my_implies()`that takes two Boolean variables `A` and `B` as inputs, and returns whether the logical statement `A implies B` is True or False.\n",
    "- We say that an integer $a$ divides an integer $m$, if $m=ka$ for some integer $k$. Implement a Python function called `my_divide()` that takes two integers $a$ and $m$ as inputs and returns $k$ if $a$ divides $m$, and `False` otherwise.\n",
    "- Test all previous functions above with suitable entries, and check that the results are as expected and that you understand the logic.\n"
   ]
  },
  {
   "cell_type": "code",
   "execution_count": 2,
   "metadata": {},
   "outputs": [
    {
     "name": "stdout",
     "output_type": "stream",
     "text": [
      "True\n",
      "False\n",
      "False\n",
      "False\n"
     ]
    }
   ],
   "source": [
    "def my_and(x1, x2):\n",
    "    return (x1 and x2)\n",
    "\n",
    "print(my_and(True, True))\n",
    "print(my_and(True, False))\n",
    "print(my_and(False, True))\n",
    "print(my_and(False, False))"
   ]
  },
  {
   "cell_type": "code",
   "execution_count": 3,
   "metadata": {},
   "outputs": [
    {
     "name": "stdout",
     "output_type": "stream",
     "text": [
      "True\n",
      "True\n",
      "True\n",
      "False\n"
     ]
    }
   ],
   "source": [
    "def my_or(x1, x2):\n",
    "    return (x1 or x2)\n",
    "\n",
    "print(my_or(True, True))\n",
    "print(my_or(True, False))\n",
    "print(my_or(False, True))\n",
    "print(my_or(False, False))"
   ]
  },
  {
   "cell_type": "code",
   "execution_count": 4,
   "metadata": {},
   "outputs": [
    {
     "name": "stdout",
     "output_type": "stream",
     "text": [
      "False\n",
      "True\n",
      "True\n",
      "True\n"
     ]
    }
   ],
   "source": [
    "def my_implies(A, B):\n",
    "    return (B or (not A))\n",
    "\n",
    "print(my_implies(True, False))\n",
    "print(my_implies(True, True))\n",
    "print(my_implies(False, False))\n",
    "print(my_implies(False, True))"
   ]
  },
  {
   "cell_type": "code",
   "execution_count": 7,
   "metadata": {},
   "outputs": [
    {
     "name": "stdout",
     "output_type": "stream",
     "text": [
      "False\n",
      "4.0\n"
     ]
    }
   ],
   "source": [
    "def my_divide(a, m):\n",
    "    if m % a == 0:\n",
    "        return m/a\n",
    "    else:\n",
    "        return False\n",
    "\n",
    "print(my_divide(2, 7))\n",
    "print(my_divide(2, 8))"
   ]
  },
  {
   "cell_type": "markdown",
   "metadata": {},
   "source": [
    "## Exercise 2: The `if`-`elif`-`else` conditional : the Collatz function\n",
    "\n",
    "\n",
    "- Write a Python function `f(x)` that computes the function $f:\\mathbb Z\\to\\mathbb Z$ given by \n",
    "$$f(x)=\\begin{cases}3x+1&\\text{if $x$ is odd,}\\\\ x/2&\\text{if $x$ is even.}\\end{cases}$$ \n",
    "The function should also print the statement 'not an integer' if the input is a floating point.\n",
    "- Test this function by computing $f(6)$ and $f(1.5)$. Print $f(n)$ for $1\\leq n\\leq 20$. (Note that the output should be integer, not floating point!) Plot the resulting \"sequence trajectory\" as a scatter plot"
   ]
  },
  {
   "cell_type": "code",
   "execution_count": 15,
   "metadata": {},
   "outputs": [
    {
     "name": "stdout",
     "output_type": "stream",
     "text": [
      "3.0\n",
      "not an integer\n"
     ]
    },
    {
     "data": {
      "text/plain": [
       "<matplotlib.collections.PathCollection at 0x1c5fbd3fa30>"
      ]
     },
     "execution_count": 15,
     "metadata": {},
     "output_type": "execute_result"
    },
    {
     "data": {
      "image/png": "[encoded data removed]",
      "text/plain": [
       "<Figure size 432x288 with 1 Axes>"
      ]
     },
     "metadata": {
      "needs_background": "light"
     },
     "output_type": "display_data"
    }
   ],
   "source": [
    "import matplotlib.pyplot as plt\n",
    "\n",
    "def f_x(x):\n",
    "    if x % 2 == 0:\n",
    "        return x/2\n",
    "    elif (x + 1) % 2 == 0:\n",
    "        return 3*x + 1\n",
    "    else:\n",
    "        print(\"not an integer\")\n",
    "        \n",
    "print(f_x(6))\n",
    "f_x(1.5)\n",
    "\n",
    "x = [i for i in range(1, 21)]\n",
    "y = [f_x(i) for i in x]\n",
    "\n",
    "plt.scatter(x, y)"
   ]
  },
  {
   "cell_type": "markdown",
   "metadata": {},
   "source": [
    "## Exercise 3: Recursive functions: Fibonacci\n",
    "\n",
    "The Fibonacci sequence $F=(1,1,3,5,8,13,21,...)$ is generated by the following rules: $F_0=1, F_1=1$, and $F_n=F_{n-1}+F_{n-2},$ for $n>1$ (note that, for convenience, the running index $n$ starts at zero instead of 1, in order to make this closer to the Python convention where index starts at zero.\n",
    "\n",
    "There are different ways of implementing a function that computes $F(n)$. A very intuitive way is to use loops, something that we will learn in the following weeks. Since we haven't learned loops yet, we will use another technique: recursion. \n",
    "\n",
    "Check on the lecture notes how we constructed a recursive function that computes the factorial number. Using that as inspiration, define a Python function called `recursive_Fibonacci()` that takes an integer $n$ as input and returns the $n-th$ Fibonacci number (where, again, we are using the convention that the first element in $F$ is $F_0$). Don't forget to print comments inside the function, so when you run it, you can see the flow. Test it by printing `recursive_Fibonacci(5)`."
   ]
  },
  {
   "cell_type": "code",
   "execution_count": 20,
   "metadata": {},
   "outputs": [
    {
     "name": "stdout",
     "output_type": "stream",
     "text": [
      "8\n"
     ]
    }
   ],
   "source": [
    "def recursive_Fibonacci(n):\n",
    "    if n < 0:\n",
    "        return None\n",
    "    elif n == 0 or n == 1:\n",
    "        return 1\n",
    "    elif n > 1:\n",
    "        return recursive_Fibonacci(n-1) + recursive_Fibonacci(n-2)\n",
    "\n",
    "print(recursive_Fibonacci(5))"
   ]
  },
  {
   "cell_type": "markdown",
   "metadata": {},
   "source": [
    "## Exercise 4: Playing with vectors and matrices"
   ]
  },
  {
   "cell_type": "markdown",
   "metadata": {},
   "source": [
    "Define two $3\\times3$ matrices $A$ and $B$ and a $3\\times1$ vector $C$ such that\n",
    "$$A=\\left[\\begin{matrix}\n",
    "1&1&2\\\\ -1&3&1\\\\ 0&5&2\n",
    "\\end{matrix}\\right], \\  B=\\left[\\begin{matrix}\n",
    "1&0&2\\\\ 0&1&0\\\\ 0&0&1\n",
    "\\end{matrix}\\right], \\ C=\\left[\\begin{matrix}\n",
    "1\\\\ 1\\\\ 2\n",
    "\\end{matrix}\\right]$$\n",
    "\n",
    "Print the matrix multiplication of $A$ and $B$, of $B$ and $A$, the norm of $C$, and the matrix multiplication of $A$ and $C$.\n",
    "\n"
   ]
  },
  {
   "cell_type": "code",
   "execution_count": 24,
   "metadata": {},
   "outputs": [
    {
     "name": "stdout",
     "output_type": "stream",
     "text": [
      "[[ 1  1  4]\n",
      " [-1  3 -1]\n",
      " [ 0  5  2]]\n",
      "[[ 1 11  6]\n",
      " [-1  3  1]\n",
      " [ 0  5  2]]\n",
      "2.449489742783178\n",
      "[[6]\n",
      " [4]\n",
      " [9]]\n"
     ]
    }
   ],
   "source": [
    "import numpy as np\n",
    "\n",
    "A = np.array([[1,1,2], [-1,3,1], [0,5,2]])\n",
    "B = np.array([[1,0,2], [0,1,0], [0,0,1]])\n",
    "C = np.array([[1], [1], [2]])\n",
    "\n",
    "print(A@B)\n",
    "print(B@A)\n",
    "print(np.linalg.norm(C))\n",
    "print(A@C)"
   ]
  },
  {
   "cell_type": "markdown",
   "metadata": {},
   "source": [
    "## Exercise 5: Elementary matrices\n",
    "\n",
    "[Elementary matrices](https://en.wikipedia.org/wiki/Elementary_matrix#Elementary_row_operations) are matrices which, when matrix-multiplied to a matrix of interest $A$, have the effect of performing elementary row operations in $A$. For instance, when we matrix-multiply an elementary matrix and $A$, the resulting matrix can be seen as a simply modification of $A$ where either of the following happens:\n",
    "1. $A$ was modified by adding $k$ times row $j$ of $A$ to row $i$ of $A$\n",
    "2. $A$ was modified by multiply row $i$ of $A$ by scalar $s$\n",
    "3. $A$ was modified by switching rows $i$ and $j$ in $A$\n",
    "\n",
    "For example, if $A$ is a $3\\times3$ matrix and we want to add s times row 2 to row 0, then the elementary matrix for this is\n",
    "$$E_1=\\left[\\begin{matrix}\n",
    "1&0&s\\\\ 0&1&0\\\\ 0&0&1\n",
    "\\end{matrix}\\right]$$\n",
    "\n",
    "To multiply row 1 by $s$ is done by using the following elementary matrix\n",
    "$$E_2=\\left[\\begin{matrix}\n",
    "1&0&0\\\\ 0&s&0\\\\ 0&0&0\n",
    "\\end{matrix}\\right]$$\n",
    "\n",
    "And to switch rows 1 and  2 is done with\n",
    "$$E_3=\\left[\\begin{matrix}\n",
    "1&0&0\\\\ 0&0&1\\\\ 0&1&0\n",
    "\\end{matrix}\\right]$$\n",
    "\n",
    "\n",
    "\n",
    "\n",
    "\n",
    "\n",
    "\n",
    "\n"
   ]
  },
  {
   "cell_type": "markdown",
   "metadata": {},
   "source": [
    "- **5.1** Start by veryfing the above with an example. To do that, define the matrix $A$ as\n",
    "$$A=\\left[\\begin{matrix}\n",
    "1&1&2\\\\ -1&3&1\\\\ 0&5&2\n",
    "\\end{matrix}\\right],$$\n",
    "and check that matrix-multiplying (`E@A`) in each case has the intended effect."
   ]
  },
  {
   "cell_type": "code",
   "execution_count": 25,
   "metadata": {},
   "outputs": [
    {
     "name": "stdout",
     "output_type": "stream",
     "text": [
      "[[ 1 11  6]\n",
      " [-1  3  1]\n",
      " [ 0  5  2]]\n",
      "[[ 1  1  2]\n",
      " [-2  6  2]\n",
      " [ 0  0  0]]\n",
      "[[ 1  1  2]\n",
      " [ 0  5  2]\n",
      " [-1  3  1]]\n"
     ]
    }
   ],
   "source": [
    "s = 2\n",
    "\n",
    "E_1 = np.array([[1,0,s], [0,1,0], [0,0,1]])\n",
    "E_2 = np.array([[1,0,0], [0,s,0], [0,0,0]])\n",
    "E_3 = np.array([[1,0,0], [0,0,1], [0,1,0]])\n",
    "A = np.array([[1,1,2], [-1,3,1], [0,5,2]])\n",
    "\n",
    "print(E_1@A)\n",
    "print(E_2@A)\n",
    "print(E_3@A)"
   ]
  },
  {
   "cell_type": "markdown",
   "metadata": {},
   "source": [
    "\n",
    "- **5.2** Then, define a Python function called `add_row()` that implements $E_1$. The function should take four arguments as inputs: the matrix $A$, a scalar $s$, and two row indices $i,j$ (remind that Python index starts at zero, not one!). Concretely, `add_row(A,s,i,j)` is a function that modifies $A$ by adding $s$ times row $j$ of $A$ to row $i$ of $A$. As a test, use the function to check that adding double the second row to the first row of\n",
    "$$A=\\left[\\begin{matrix}\n",
    "2&1\\\\ 3&4\n",
    "\\end{matrix}\\right]$$\n",
    "gives\n",
    "$$A=\\left[\\begin{matrix}\n",
    "8&9\\\\ 3&4\n",
    "\\end{matrix}\\right]$$"
   ]
  },
  {
   "cell_type": "code",
   "execution_count": null,
   "metadata": {
    "collapsed": true
   },
   "outputs": [],
   "source": [
    "def add_row(A, s, i ,j):\n",
    "    "
   ]
  },
  {
   "cell_type": "markdown",
   "metadata": {},
   "source": [
    "- **5.3** Likewise, implement a function `scale_row()` that implements $E_2$, and `switch_row()` that implements $E_3$. As a test, use the functions to check that multiplying the second row by $-0.5$ for\n",
    "$$A=\\left[\\begin{matrix}\n",
    "2&1\\\\ 3&4\n",
    "\\end{matrix}\\right]$$\n",
    "gives\n",
    "$$A=\\left[\\begin{matrix}\n",
    "2&1\\\\ -1.5&-2\n",
    "\\end{matrix}\\right],$$\n",
    "and that switching the first and second rows of \n",
    "$$A=\\left[\\begin{matrix}\n",
    "2&1\\\\ 3&4\n",
    "\\end{matrix}\\right]$$\n",
    "gives\n",
    "$$A=\\left[\\begin{matrix}\n",
    "3&4\\\\ 2&1\n",
    "\\end{matrix}\\right]$$"
   ]
  },
  {
   "cell_type": "code",
   "execution_count": null,
   "metadata": {
    "collapsed": true
   },
   "outputs": [],
   "source": []
  },
  {
   "cell_type": "code",
   "execution_count": null,
   "metadata": {
    "collapsed": true
   },
   "outputs": [],
   "source": []
  },
  {
   "cell_type": "markdown",
   "metadata": {},
   "source": [
    "## Exercise 6: Random linear systems\n",
    "\n",
    "- Define a $100\\times100$ real-valued matrix $A$ with entries randomly chosen from a normal distribution, and a real-valued vector of dimension 100 with also randomly chosen entries from the same distribution.\n",
    "- Compute the eigenvalues of $A$ , and plot them in the complex plane.\n",
    "- Compute the inverse and to solve the linear system $Ax=b$. Do you foresee any problem with this? Check if the result is accurate. \n"
   ]
  },
  {
   "cell_type": "code",
   "execution_count": null,
   "metadata": {},
   "outputs": [],
   "source": []
  },
  {
   "cell_type": "code",
   "execution_count": null,
   "metadata": {},
   "outputs": [],
   "source": []
  }
 ],
 "metadata": {
  "kernelspec": {
   "display_name": "Python 3",
   "language": "python",
   "name": "python3"
  },
  "language_info": {
   "codemirror_mode": {
    "name": "ipython",
    "version": 3
   },
   "file_extension": ".py",
   "mimetype": "text/x-python",
   "name": "python",
   "nbconvert_exporter": "python",
   "pygments_lexer": "ipython3",
   "version": "3.9.5"
  }
 },
 "nbformat": 4,
 "nbformat_minor": 2
}
