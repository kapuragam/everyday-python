{
 "cells": [
  {
   "cell_type": "markdown",
   "metadata": {},
   "source": [
    "## <ins>Exercise 1: The Collatz conjecture</ins>\n",
    "\n"
   ]
  },
  {
   "cell_type": "markdown",
   "metadata": {},
   "source": [
    "For a positive integer $a$, consider the sequence defined by $x_0=a$ and\n",
    "$$x_{n+1}=\\begin{cases}3x_n+1&\\text{if $x_n$ is odd,}\\\\ x_n/2&\\text{if $x_n$ is even.}\\end{cases}$$\n",
    "The [Collatz conjecture](http://en.wikipedia.org/wiki/Collatz_conjecture) states that this sequence will *always* reach $1$, no matter what the given value of $a$ is."
   ]
  },
  {
   "cell_type": "markdown",
   "metadata": {},
   "source": [
    "#### (1.A.) Write a Python function `f(x)` that computes the function $f:\\mathbb Z\\to\\mathbb Z$ given by \n",
    "\n",
    "$$f(x)=\\begin{cases}3x+1&\\text{if $x$ is odd,}\\\\ x/2&\\text{if $x$ is even.}\\end{cases}$$ Test this function by computing $f(n)$ for $1\\leq n\\leq 20$. (Note that the output should be integer, not floating point!)"
   ]
  },
  {
   "cell_type": "code",
   "execution_count": 1,
   "metadata": {
    "scrolled": false
   },
   "outputs": [
    {
     "name": "stdout",
     "output_type": "stream",
     "text": [
      "4\n",
      "1\n",
      "10\n",
      "2\n",
      "16\n",
      "3\n",
      "22\n",
      "4\n",
      "28\n",
      "5\n",
      "34\n",
      "6\n",
      "40\n",
      "7\n",
      "46\n",
      "8\n",
      "52\n",
      "9\n",
      "58\n",
      "10\n"
     ]
    }
   ],
   "source": [
    "def f(num):\n",
    "    if num%2 == 0:\n",
    "        return int(num/2)\n",
    "    else:\n",
    "        return int(3*num + 1)\n",
    "\n",
    "for i in range(1,21):\n",
    "    print(f(i))"
   ]
  },
  {
   "cell_type": "markdown",
   "metadata": {},
   "source": [
    "You can also use this function **iteratively** to build a sequence of numbers. You can do that by taking an initial number $x_0$, apply the Collatz function to produce a new number $x_1=f(x_0)$, and then iterate this process by plugging the new number to build $x_2=f(x_1)$, etc. For instance, starting with $x=10$, say, will produce you $10\\to5\\to16\\to8\\to4\\to2\\to1\\to4\\to2\\to1\\ldots$.\n",
    "\n",
    "We now want to explore this sequence, so-called the Collatz sequence, in more detail."
   ]
  },
  {
   "cell_type": "markdown",
   "metadata": {},
   "source": [
    "#### (1.B): Write three Python functions:\n",
    "- `iterate_Collatz_for(a,N)`, \n",
    "- `iterate_Collatz_while(a)`, and  \n",
    "- `recursive_Collatz(a)`  \n",
    "\n",
    "The first two returns a list of the iterates of the Collatz function ($x_0=a,x_1=f(x_0), x_2=f(x_1),\\ldots$) using a `for loop` and a `while loop`, respectively. In the first case, an additional parameter $N$ (the number of iterations of the for loop) needs to be provided, in the second case, the function should stop once the sequence reaches $x=1$. The third function implements a recursive function. In this case, the function  ***prints*** out the values  $x_{n+1}=f(x_n)$, starting with $x_0=a$ and ending with the first occurrence of $x_N=1$ and ***outputs*** (i.e. returns) the number of iterations $N$.\n",
    "\n",
    "\n",
    "\n",
    "Test all three functions with $a=10$.\n",
    "\n",
    "\n",
    "\n"
   ]
  },
  {
   "cell_type": "code",
   "execution_count": 2,
   "metadata": {},
   "outputs": [
    {
     "name": "stdout",
     "output_type": "stream",
     "text": [
      "[10, 5, 16, 8, 4, 2, 1]\n",
      "[10, 5, 16, 8, 4, 2, 1]\n",
      "10\n",
      "5\n",
      "16\n",
      "8\n",
      "4\n",
      "2\n",
      "1\n",
      "6\n"
     ]
    }
   ],
   "source": [
    "def iterate_Collatz_for(a, N):\n",
    "    result = []\n",
    "    result.append(a)\n",
    "    for i in range(1, N+1):\n",
    "        result.append(f(result[i-1]))\n",
    "    return result\n",
    "\n",
    "print(iterate_Collatz_for(10, 6))\n",
    "\n",
    "def iterate_Collatz_while(a):\n",
    "    result = []\n",
    "    result.append(a)\n",
    "    while(result[-1] != 1):\n",
    "        result.append(f(result[-1]))\n",
    "    return result\n",
    "\n",
    "print(iterate_Collatz_while(10))\n",
    "\n",
    "def recursive_Collatz(a):\n",
    "    print(a)\n",
    "    if a == 1:\n",
    "        return 0\n",
    "    else:\n",
    "        return 1 + recursive_Collatz(f(a))\n",
    "    \n",
    "print(recursive_Collatz(10))"
   ]
  },
  {
   "cell_type": "markdown",
   "metadata": {},
   "source": [
    "#### (1.C) Then, for k ranging between 10 and 30, \n",
    "- generate Collatz sequences with length 100 elements, starting at k\n",
    "- Plot all the resulting together in the same figure. What do you observe? In 1937, Collatz made a conjecture about this sequence. Could you guess what the conjecture was?\n"
   ]
  },
  {
   "cell_type": "code",
   "execution_count": 4,
   "metadata": {},
   "outputs": [
    {
     "data": {
      "image/png": "[encoded data removed]",
      "text/plain": [
       "<Figure size 432x288 with 1 Axes>"
      ]
     },
     "metadata": {
      "needs_background": "light"
     },
     "output_type": "display_data"
    }
   ],
   "source": [
    "import matplotlib.pyplot as plt\n",
    "\n",
    "def plot_Collatz(start, end):\n",
    "    x = list(range(1, 101))\n",
    "    for i in range(start, end+1):\n",
    "        y = iterate_Collatz_for(i, 99)\n",
    "        plt.plot(x, y)\n",
    "    plt.show()\n",
    "      \n",
    "plot_Collatz(10, 30)"
   ]
  },
  {
   "cell_type": "markdown",
   "metadata": {},
   "source": [
    "### Conjecture : Regardless of the initial positive integer value, the series always reduces to 1 and once reached, oscillates as 4 - 2 - 1- 4 - 2 -1 - etc"
   ]
  },
  {
   "cell_type": "markdown",
   "metadata": {},
   "source": [
    "## <ins>Exercise 2: Numerical analysis with Python: root finding by implementing Newton-Raphson algorithm</ins>\n"
   ]
  },
  {
   "cell_type": "markdown",
   "metadata": {},
   "source": [
    "In the lecture you learned about the bisection method, as a numerical algorithm which you can use to approximate the root of a function. But there are other alternatives, here we introduce a very popular one: the so-called Newton-Raphson algorithm. First, we give a visual example of how the algorithm works.\n",
    "\n",
    "#### 2.A Look to the image and gif below for a couple of minutes, and try to come up by yourself with an expression that, given an initial point $x_{ini}$, gives a better approximation to the root $x^*$ (which satisfies $f(x^*)=0$). For this part, don't scroll down below the gif !\n"
   ]
  },
  {
   "attachments": {
    "image.png": {
     "image/png": "[encoded data removed]"
    }
   },
   "cell_type": "markdown",
   "metadata": {},
   "source": [
    "![image.png](attachment:image.png)\n",
    "\n",
    "![newtoniteration](https://austingwalters.com/wp-content/uploads/2014/03/NewtonIteration_Ani.gif)"
   ]
  },
  {
   "cell_type": "markdown",
   "metadata": {},
   "source": [
    "#### 2.B Now, implement a Python function called `my_Newton(f,df,a,N)` which takes a function $f$, its derivative $df$, an initial point $a$, and an integer $N$, and implements the following algorithm: \n",
    "\n",
    "1. Start with a point $a$.\n",
    "2. Let $x_0=a$ the first approximation to the root of $f$.\n",
    "3. Then, the new approximation to the root is $x_{1}=x_0-\\frac{f(x_0)}{f'(x_0)}\\;.$\n",
    "4. Repeat step 3 iteratively a total of $N$ times \n",
    "5. Return $x_N$"
   ]
  },
  {
   "cell_type": "code",
   "execution_count": 5,
   "metadata": {},
   "outputs": [],
   "source": [
    "def my_Newton(f, df, a, N):\n",
    "    root = a\n",
    "    for i in range(1, N+1):\n",
    "        root = root - (f(root)/df(root))\n",
    "    return root"
   ]
  },
  {
   "cell_type": "markdown",
   "metadata": {},
   "source": [
    "#### 2.C Using lambda functions, approximate the root of the function $f(x)=x^2-2x-3$. Try two different initial points: -5 and 5, and see what you get. You can choose to write down the derivative as a lambda function, or define a function which approximates the derivative numerically (see previous assignments)."
   ]
  },
  {
   "cell_type": "code",
   "execution_count": 6,
   "metadata": {},
   "outputs": [
    {
     "name": "stdout",
     "output_type": "stream",
     "text": [
      "-1.0000000009313226\n",
      "3.000000000000002\n"
     ]
    }
   ],
   "source": [
    "f = lambda x : x**2 - 2*x - 3\n",
    "df = lambda x : 2*x - 2\n",
    "\n",
    "print(my_Newton(f, df, -5, 5))\n",
    "print(my_Newton(f, df, 5, 5))"
   ]
  },
  {
   "cell_type": "markdown",
   "metadata": {},
   "source": [
    "#### 2.D There exists a Python function that already implements this algorithm. Try to find it online, import the necessary module, and check that you get the same results as before. Finally, plot $f(x)=x^2-2x-3$ for $x\\in [-6,6]$"
   ]
  },
  {
   "cell_type": "code",
   "execution_count": 7,
   "metadata": {},
   "outputs": [
    {
     "name": "stdout",
     "output_type": "stream",
     "text": [
      "-1.0000000000000002\n",
      "3.0000000000000004\n"
     ]
    }
   ],
   "source": [
    "from scipy.optimize import newton\n",
    "\n",
    "print(newton(f, -5))\n",
    "print(newton(f, 5))"
   ]
  },
  {
   "cell_type": "markdown",
   "metadata": {},
   "source": []
  },
  {
   "cell_type": "code",
   "execution_count": 8,
   "metadata": {},
   "outputs": [
    {
     "data": {
      "image/png": "[encoded data removed]",
      "text/plain": [
       "<Figure size 432x288 with 1 Axes>"
      ]
     },
     "metadata": {
      "needs_background": "light"
     },
     "output_type": "display_data"
    }
   ],
   "source": [
    "def plot_f(start, end):\n",
    "    x = list(range(start, end+1))\n",
    "    y = [f(i) for i in x]\n",
    "    plt.plot(x, y)\n",
    "    plt.show()\n",
    "    \n",
    "plot_f(-6, 6)"
   ]
  },
  {
   "cell_type": "code",
   "execution_count": 36,
   "metadata": {},
   "outputs": [
    {
     "name": "stdout",
     "output_type": "stream",
     "text": [
      "2\n"
     ]
    }
   ],
   "source": [
    "def my_f(input):\n",
    "    maximum = float('-inf')\n",
    "    sum_of_elements = 0\n",
    "    sum_of_elements_except_largest = 0\n",
    "    for item in input:\n",
    "        if item > maximum:\n",
    "            maximum = item\n",
    "        sum_of_elements += item\n",
    "    sum_of_elements_except_largest = sum_of_elements - maximum\n",
    "    if sum_of_elements_except_largest > 0:\n",
    "        return 1\n",
    "    elif sum_of_elements > 0:\n",
    "        return 2\n",
    "    else:\n",
    "        return 3\n",
    "    \n",
    "print(my_f([-11,4,10]))"
   ]
  },
  {
   "cell_type": "code",
   "execution_count": 8,
   "metadata": {},
   "outputs": [
    {
     "name": "stdout",
     "output_type": "stream",
     "text": [
      "False\n"
     ]
    }
   ],
   "source": [
    "def my_bool(bool1, bool2):\n",
    "    return bool(bool1) != bool(bool2)\n",
    "\n",
    "print(my_bool(1<2,5>1))"
   ]
  },
  {
   "cell_type": "code",
   "execution_count": 17,
   "metadata": {},
   "outputs": [
    {
     "name": "stdout",
     "output_type": "stream",
     "text": [
      "0\n",
      "True\n"
     ]
    }
   ],
   "source": [
    "def my_andor(x, y, z):\n",
    "    if not isinstance(z, int):\n",
    "        return 0\n",
    "    if z>0:\n",
    "        return x and y\n",
    "    elif z<0:\n",
    "        return x or y\n",
    "    else:\n",
    "        return not(x or y)\n",
    "    \n",
    "print(my_andor(1>3,2<3,1.5))\n",
    "print(my_andor(1>3,2<3,-2))\n"
   ]
  },
  {
   "cell_type": "code",
   "execution_count": 18,
   "metadata": {},
   "outputs": [
    {
     "name": "stdout",
     "output_type": "stream",
     "text": [
      "{1: 'red', 2: 'black', 3: 'blue'}\n",
      "0\n"
     ]
    }
   ],
   "source": [
    "def lists_to_dic(list1, list2):\n",
    "    if len(list1) != len(list2):\n",
    "        return 0\n",
    "    else:\n",
    "        result = {}\n",
    "        for i in range(0, len(list1)):\n",
    "            result[list1[i]] = list2[i]\n",
    "        return result\n",
    "\n",
    "print(lists_to_dic([1,2,3],['red','black','blue']))\n",
    "print(lists_to_dic([1,2,3,4],['red','black','blue']))\n"
   ]
  },
  {
   "cell_type": "code",
   "execution_count": 19,
   "metadata": {},
   "outputs": [
    {
     "name": "stdout",
     "output_type": "stream",
     "text": [
      "-12\n"
     ]
    }
   ],
   "source": [
    "def symbolic_trajectory(string):\n",
    "    mapping = {'A':-2, 'B':2}\n",
    "    Z = []\n",
    "    for character in string:\n",
    "        Z.append(mapping.get(character))\n",
    "    return sum(Z)\n",
    "        \n",
    "print(symbolic_trajectory('ABAABAABABBAAAABABABAABA'))\n"
   ]
  },
  {
   "cell_type": "code",
   "execution_count": 25,
   "metadata": {},
   "outputs": [
    {
     "name": "stdout",
     "output_type": "stream",
     "text": [
      "[2, 3, 4]\n"
     ]
    }
   ],
   "source": [
    "def my_sort(int1, int2, int3):\n",
    "    integer_list = []\n",
    "    integer_list.append(int1)\n",
    "    integer_list.append(int2)\n",
    "    integer_list.append(int3)\n",
    "    for i in range(len(integer_list)):\n",
    "        index_of_minimum = i\n",
    "        for j in range(i+1, len(integer_list)):\n",
    "            if integer_list[index_of_minimum] > integer_list[j]:\n",
    "                index_of_minimum = j\n",
    "        integer_list[i], integer_list[index_of_minimum] = integer_list[index_of_minimum], integer_list[i]\n",
    "    return integer_list\n",
    "\n",
    "print(my_sort(4,3,2))\n"
   ]
  },
  {
   "cell_type": "code",
   "execution_count": 29,
   "metadata": {},
   "outputs": [
    {
     "name": "stdout",
     "output_type": "stream",
     "text": [
      "[[1, 8], [2, 7], [3, 6], [4, 5], [5, 4], [6, 3], [7, 2], [8, 1]]\n"
     ]
    }
   ],
   "source": [
    "def mypart(z):\n",
    "    if z<0:\n",
    "        return 0\n",
    "    result = []\n",
    "    for i in range(1, z):\n",
    "        result.append([i, z-i])\n",
    "    return result\n",
    "\n",
    "print(mypart(9))\n"
   ]
  },
  {
   "cell_type": "code",
   "execution_count": 34,
   "metadata": {},
   "outputs": [
    {
     "name": "stdout",
     "output_type": "stream",
     "text": [
      "34359738368\n"
     ]
    }
   ],
   "source": [
    "def my_PL(n):\n",
    "    if n == 0:\n",
    "        return 1\n",
    "    elif n == 1:\n",
    "        return 2\n",
    "    else:\n",
    "        return my_PL(n-1) + 2*my_PL(n-2)\n",
    "    \n",
    "print(my_PL(35))\n"
   ]
  },
  {
   "cell_type": "code",
   "execution_count": null,
   "metadata": {},
   "outputs": [],
   "source": []
  }
 ],
 "metadata": {
  "kernelspec": {
   "display_name": "Python 3",
   "language": "python",
   "name": "python3"
  },
  "language_info": {
   "codemirror_mode": {
    "name": "ipython",
    "version": 3
   },
   "file_extension": ".py",
   "mimetype": "text/x-python",
   "name": "python",
   "nbconvert_exporter": "python",
   "pygments_lexer": "ipython3",
   "version": "3.9.5"
  }
 },
 "nbformat": 4,
 "nbformat_minor": 2
}
